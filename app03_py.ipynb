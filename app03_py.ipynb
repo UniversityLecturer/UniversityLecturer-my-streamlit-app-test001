{
  "nbformat": 4,
  "nbformat_minor": 0,
  "metadata": {
    "colab": {
      "provenance": [],
      "authorship_tag": "ABX9TyPdKhYLancNuDGwd26Juq9s",
      "include_colab_link": true
    },
    "kernelspec": {
      "name": "python3",
      "display_name": "Python 3"
    },
    "language_info": {
      "name": "python"
    }
  },
  "cells": [
    {
      "cell_type": "markdown",
      "metadata": {
        "id": "view-in-github",
        "colab_type": "text"
      },
      "source": [
        "<a href=\"https://colab.research.google.com/github/UniversityLecturer/UniversityLecturer-my-streamlit-app-test001/blob/main/app03_py.ipynb\" target=\"_parent\"><img src=\"https://colab.research.google.com/assets/colab-badge.svg\" alt=\"Open In Colab\"/></a>"
      ]
    },
    {
      "cell_type": "code",
      "source": [
        "import streamlit as st\n",
        "\n",
        "st.title(\"はじめてのAIアプリ\")\n",
        "st.write(\"こんにちは！Streamlitへようこそ。\")\n",
        "\n",
        "name = st.text_input(\"あなたの名前を入力してください\")\n",
        "if name:\n",
        "    st.success(f\"{name} さん、ようこそ！\")"
      ],
      "metadata": {
        "id": "zisImOzo3wG5"
      },
      "execution_count": null,
      "outputs": []
    }
  ]
}